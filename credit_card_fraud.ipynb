{
  "nbformat": 4,
  "nbformat_minor": 0,
  "metadata": {
    "colab": {
      "name": "credit_card_fraud.ipynb",
      "provenance": [],
      "authorship_tag": "ABX9TyPH8QTP8xAtHTVqRcRzaTSl",
      "include_colab_link": true
    },
    "kernelspec": {
      "name": "python3",
      "display_name": "Python 3"
    },
    "language_info": {
      "name": "python"
    }
  },
  "cells": [
    {
      "cell_type": "markdown",
      "metadata": {
        "id": "view-in-github",
        "colab_type": "text"
      },
      "source": [
        "<a href=\"https://colab.research.google.com/github/negatively/DS-ML-Project/blob/main/credit_card_fraud.ipynb\" target=\"_parent\"><img src=\"https://colab.research.google.com/assets/colab-badge.svg\" alt=\"Open In Colab\"/></a>"
      ]
    },
    {
      "cell_type": "code",
      "metadata": {
        "id": "ay4u9ERRUsB0"
      },
      "source": [
        ""
      ],
      "execution_count": null,
      "outputs": []
    },
    {
      "cell_type": "markdown",
      "metadata": {
        "id": "2Ye5G1BeU46-"
      },
      "source": [
        "## Pendahuluan\n",
        "Dalam projek ini kita akan menggunakan beberapa model prediksi untuk melihat bagaimana akurasi model dalam mendeteksi transaksi itu termasuk normal atau fraud. Berdasarkan deskripsi dari dataset, feature telah dinamai dengan V untuk privasi dan telah discaling. Namun, kita masih dapat menganalisa aspek-aspek penting dari dataset."
      ]
    },
    {
      "cell_type": "markdown",
      "metadata": {
        "id": "BAq3Lo3oU71B"
      },
      "source": [
        "## Tujuan\n",
        "* Memahami distribusi dataset dari sebagian data yang telah diberikan kepada kita\n",
        "* Membuat sub-dataframe dengan rasio 50-50 untuk Fraud dan non-Fraud.\n",
        "* Menentukan classifier yang akan digunakan dan menentukan mana yang memiliki akurasi tertinggi\n",
        "* Membuat Neural Network dan membandingkan hasil akurasi dengan classifier terbaik\n",
        "* Memahami kesalahan yang biasa terjadi dengan imbalanced dataset\n"
      ]
    },
    {
      "cell_type": "markdown",
      "metadata": {
        "id": "VbbV65L8U_RA"
      },
      "source": [
        "## Data Understanding\n",
        "Hal pertama yang perlu kita lakukan adalah mengumpulkan informasi terkait dataset kita. Perlu diingat, kecuali kolom transaction dan amount kita tidak tahu isi dari kolom lain. Yang kita tahu kolom-kolom tersebut telah di scaling.\n",
        "* Besar transaksi yang ada relatif kecil dengan rata-rata 88 USD\n",
        "* Tidak terdapat null values, sehingga kita tidak perlu untuk mengatasinya\n",
        "* Kebanyakan transaksi adalah Non-fraud(99.83%) sedangkan Fraud(0.17%)"
      ]
    },
    {
      "cell_type": "code",
      "metadata": {
        "colab": {
          "base_uri": "https://localhost:8080/"
        },
        "id": "Ur0WW-VdU5kj",
        "outputId": "1597cba6-3cda-4a33-9c70-0a72d2d34ade"
      },
      "source": [
        "# import libraries\n",
        "import numpy as np\n",
        "import pandas as pd\n",
        "import tensorflow as tf\n",
        "import matplotlib.pyplot as plt\n",
        "import seaborn as sns\n",
        "from sklearn.manifold import TSNE\n",
        "from sklearn.decomposition import PCA, TruncatedSVD\n",
        "import matplotlib.patches as mpatches\n",
        "import time\n",
        "\n",
        "#Libray Classifier\n",
        "from sklearn.model_selection import train_test_split, KFold, StratifiedKFold\n",
        "from sklearn.pipeline import make_pipeline\n",
        "from imblearn.pipeline import make_pipeline as imbalanced_make_pipeline\n",
        "from imblearn.over_sampling import SMOTE\n",
        "from imblearn.under_sampling import NearMiss\n",
        "from imblearn.metrics import classification_report_imbalanced\n",
        "from sklearn.metrics import precision_score, recall_score, f1_score, roc_auc_score, accuracy_score, classification_report\n",
        "from collections import Counter\n",
        "import warnings\n",
        "warnings.filterwarnings(\"ignore\")"
      ],
      "execution_count": 1,
      "outputs": [
        {
          "output_type": "stream",
          "name": "stderr",
          "text": [
            "/usr/local/lib/python3.7/dist-packages/sklearn/externals/six.py:31: FutureWarning: The module is deprecated in version 0.21 and will be removed in version 0.23 since we've dropped support for Python 2.7. Please rely on the official version of six (https://pypi.org/project/six/).\n",
            "  \"(https://pypi.org/project/six/).\", FutureWarning)\n",
            "/usr/local/lib/python3.7/dist-packages/sklearn/utils/deprecation.py:144: FutureWarning: The sklearn.neighbors.base module is  deprecated in version 0.22 and will be removed in version 0.24. The corresponding classes / functions should instead be imported from sklearn.neighbors. Anything that cannot be imported from sklearn.neighbors is now part of the private API.\n",
            "  warnings.warn(message, FutureWarning)\n",
            "/usr/local/lib/python3.7/dist-packages/sklearn/utils/deprecation.py:144: FutureWarning: The sklearn.metrics.classification module is  deprecated in version 0.22 and will be removed in version 0.24. The corresponding classes / functions should instead be imported from sklearn.metrics. Anything that cannot be imported from sklearn.metrics is now part of the private API.\n",
            "  warnings.warn(message, FutureWarning)\n"
          ]
        }
      ]
    },
    {
      "cell_type": "code",
      "metadata": {
        "id": "oqCQJBKdVCpB"
      },
      "source": [
        ""
      ],
      "execution_count": null,
      "outputs": []
    }
  ]
}