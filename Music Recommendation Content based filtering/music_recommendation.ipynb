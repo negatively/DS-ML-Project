{
  "nbformat": 4,
  "nbformat_minor": 0,
  "metadata": {
    "colab": {
      "name": "music_recommendation.ipynb",
      "provenance": [],
      "collapsed_sections": []
    },
    "kernelspec": {
      "name": "python3",
      "display_name": "Python 3"
    },
    "language_info": {
      "name": "python"
    }
  },
  "cells": [
    {
      "cell_type": "markdown",
      "metadata": {
        "id": "OOfnpD6Sajd2"
      },
      "source": [
        "# Sistem Rekomendasi Musik Spotify\n",
        "**Oleh : Yoga Mileniandi**"
      ]
    },
    {
      "cell_type": "markdown",
      "metadata": {
        "id": "Vv8V00vta2NY"
      },
      "source": [
        "## Pendahuluan\n",
        "![spotify](https://user-images.githubusercontent.com/61934759/137764151-d27729b5-7145-4df8-97e2-168e7bbb0caf.png)\n",
        "Proyek berupa sistem rekomendasi musik yang ditunjukkan bagi pengguna aplikasi Spotify. Sistem rekomendasi musik ini menggunakan pendekatan content-based filtering. Content-based filtering melakukan rekomendasi dengan mempelajari profil minat pengguna baru berdasarkan data dari objek yang telah dinilai pengguna.\n"
      ]
    },
    {
      "cell_type": "markdown",
      "metadata": {
        "id": "ttV2EMn1Cwms"
      },
      "source": [
        "## 1. Mempersiapkan Library dan Dataset"
      ]
    },
    {
      "cell_type": "markdown",
      "metadata": {
        "id": "ViIwxNteG-6A"
      },
      "source": [
        "### 1.1 Memanggil Library"
      ]
    },
    {
      "cell_type": "code",
      "metadata": {
        "id": "G_DD9Mxfa1pk"
      },
      "source": [
        "# Library untuk pengolahan data\n",
        "import numpy as np\n",
        "import pandas as pd\n",
        "from zipfile import ZipFile\n",
        "from sklearn.preprocessing import MinMaxScaler\n",
        "from sklearn.feature_extraction.text import TfidfVectorizer\n",
        "\n",
        "# Library untuk visualisasi data\n",
        "import matplotlib.pyplot as plt\n",
        "import seaborn as sns\n",
        "\n",
        "# Library untuk pemodelan\n",
        "from sklearn.cluster import KMeans\n",
        "from sklearn.metrics.pairwise import cosine_similarity\n",
        "from sklearn.metrics import calinski_harabasz_score"
      ],
      "execution_count": 1,
      "outputs": []
    },
    {
      "cell_type": "markdown",
      "metadata": {
        "id": "gA9nYGRUHGG3"
      },
      "source": [
        "### 1.2 Mengunduh Dataset from Kaggle"
      ]
    },
    {
      "cell_type": "code",
      "metadata": {
        "colab": {
          "resources": {
            "http://localhost:8080/nbextensions/google.colab/files.js": {
              "data": "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",
              "ok": true,
              "headers": [
                [
                  "content-type",
                  "application/javascript"
                ]
              ],
              "status": 200,
              "status_text": ""
            }
          },
          "base_uri": "https://localhost:8080/",
          "height": 73
        },
        "id": "zDHWegRQagCf",
        "outputId": "7c5c33dc-fd34-4577-ece2-2e779b4c9233"
      },
      "source": [
        "# Melakukan pengaturan API Kaggle\n",
        "! pip install -q kaggle\n",
        "from google.colab import files\n",
        "files.upload()\n",
        "! mkdir ~/.kaggle\n",
        "! cp kaggle.json ~/.kaggle/\n",
        "! chmod 600 ~/.kaggle/kaggle.json"
      ],
      "execution_count": 2,
      "outputs": [
        {
          "output_type": "display_data",
          "data": {
            "text/html": [
              "\n",
              "     <input type=\"file\" id=\"files-8b64edea-4eb6-49e7-a309-eed9234536d9\" name=\"files[]\" multiple disabled\n",
              "        style=\"border:none\" />\n",
              "     <output id=\"result-8b64edea-4eb6-49e7-a309-eed9234536d9\">\n",
              "      Upload widget is only available when the cell has been executed in the\n",
              "      current browser session. Please rerun this cell to enable.\n",
              "      </output>\n",
              "      <script src=\"/nbextensions/google.colab/files.js\"></script> "
            ],
            "text/plain": [
              "<IPython.core.display.HTML object>"
            ]
          },
          "metadata": {}
        },
        {
          "output_type": "stream",
          "name": "stdout",
          "text": [
            "Saving kaggle.json to kaggle.json\n"
          ]
        }
      ]
    },
    {
      "cell_type": "code",
      "metadata": {
        "colab": {
          "base_uri": "https://localhost:8080/"
        },
        "id": "IWqkdylZHthZ",
        "outputId": "2603186e-246c-44d7-ffd2-343680f6c926"
      },
      "source": [
        "# Mengambil dataset dari Kaggle\n",
        "!kaggle datasets download -d edalrami/19000-spotify-songs"
      ],
      "execution_count": 3,
      "outputs": [
        {
          "output_type": "stream",
          "name": "stdout",
          "text": [
            "Downloading 19000-spotify-songs.zip to /content\n",
            "\r  0% 0.00/1.18M [00:00<?, ?B/s]\n",
            "\r100% 1.18M/1.18M [00:00<00:00, 19.5MB/s]\n"
          ]
        }
      ]
    },
    {
      "cell_type": "markdown",
      "metadata": {
        "id": "htxuszKZIneE"
      },
      "source": [
        "### 1.3 Memuat dataset"
      ]
    },
    {
      "cell_type": "code",
      "metadata": {
        "id": "qCL4m1dLIUbS"
      },
      "source": [
        "# Ekstrasi data\n",
        "path = '/content/19000-spotify-songs.zip'\n",
        "with ZipFile(path, 'r') as zip_ref:\n",
        "  zip_ref.extractall('working')"
      ],
      "execution_count": 4,
      "outputs": []
    },
    {
      "cell_type": "code",
      "metadata": {
        "id": "27ltb8-nI9EC"
      },
      "source": [
        "# Memuat dataset dengan library pandas\n",
        "song_info = pd.read_csv(\"/content/working/song_info.csv\")"
      ],
      "execution_count": 30,
      "outputs": []
    },
    {
      "cell_type": "markdown",
      "metadata": {
        "id": "Hb4rBId1JZsW"
      },
      "source": [
        "## 2. Pemahaman Data"
      ]
    },
    {
      "cell_type": "markdown",
      "metadata": {
        "id": "jMfCWHJ4TzoD"
      },
      "source": [
        "Data yang digunakan untuk proyek kali ini adalah 19,000 Spotify Song yang diunduh dari [Dataset Kaggle](https://www.kaggle.com/edalrami/19000-spotify-songs/code). Dataset tersebut memiliki dua buah file berformat csv, yaitu _song_data.csv_ dan _song_info.csv_. _song_data.csv_ berisi informasi yang berkaitan tentang atribut audio lagu. Sedangkan _song_info.csv_ berisi informasi yang berkaitan tentang metadata lagu."
      ]
    },
    {
      "cell_type": "code",
      "metadata": {
        "colab": {
          "base_uri": "https://localhost:8080/",
          "height": 202
        },
        "id": "WfAK8bHZJqUI",
        "outputId": "7e64ebd3-e558-4ec6-9b9e-a078f50a0974"
      },
      "source": [
        "# Melihat isi song_info\n",
        "song_info.head()"
      ],
      "execution_count": 6,
      "outputs": [
        {
          "output_type": "execute_result",
          "data": {
            "text/html": [
              "<div>\n",
              "<style scoped>\n",
              "    .dataframe tbody tr th:only-of-type {\n",
              "        vertical-align: middle;\n",
              "    }\n",
              "\n",
              "    .dataframe tbody tr th {\n",
              "        vertical-align: top;\n",
              "    }\n",
              "\n",
              "    .dataframe thead th {\n",
              "        text-align: right;\n",
              "    }\n",
              "</style>\n",
              "<table border=\"1\" class=\"dataframe\">\n",
              "  <thead>\n",
              "    <tr style=\"text-align: right;\">\n",
              "      <th></th>\n",
              "      <th>song_name</th>\n",
              "      <th>artist_name</th>\n",
              "      <th>album_names</th>\n",
              "      <th>playlist</th>\n",
              "    </tr>\n",
              "  </thead>\n",
              "  <tbody>\n",
              "    <tr>\n",
              "      <th>0</th>\n",
              "      <td>Boulevard of Broken Dreams</td>\n",
              "      <td>Green Day</td>\n",
              "      <td>Greatest Hits: God's Favorite Band</td>\n",
              "      <td>00s Rock Anthems</td>\n",
              "    </tr>\n",
              "    <tr>\n",
              "      <th>1</th>\n",
              "      <td>In The End</td>\n",
              "      <td>Linkin Park</td>\n",
              "      <td>Hybrid Theory</td>\n",
              "      <td>00s Rock Anthems</td>\n",
              "    </tr>\n",
              "    <tr>\n",
              "      <th>2</th>\n",
              "      <td>Seven Nation Army</td>\n",
              "      <td>The White Stripes</td>\n",
              "      <td>Elephant</td>\n",
              "      <td>00s Rock Anthems</td>\n",
              "    </tr>\n",
              "    <tr>\n",
              "      <th>3</th>\n",
              "      <td>By The Way</td>\n",
              "      <td>Red Hot Chili Peppers</td>\n",
              "      <td>By The Way (Deluxe Version)</td>\n",
              "      <td>00s Rock Anthems</td>\n",
              "    </tr>\n",
              "    <tr>\n",
              "      <th>4</th>\n",
              "      <td>How You Remind Me</td>\n",
              "      <td>Nickelback</td>\n",
              "      <td>Silver Side Up</td>\n",
              "      <td>00s Rock Anthems</td>\n",
              "    </tr>\n",
              "  </tbody>\n",
              "</table>\n",
              "</div>"
            ],
            "text/plain": [
              "                    song_name  ...          playlist\n",
              "0  Boulevard of Broken Dreams  ...  00s Rock Anthems\n",
              "1                  In The End  ...  00s Rock Anthems\n",
              "2           Seven Nation Army  ...  00s Rock Anthems\n",
              "3                  By The Way  ...  00s Rock Anthems\n",
              "4           How You Remind Me  ...  00s Rock Anthems\n",
              "\n",
              "[5 rows x 4 columns]"
            ]
          },
          "metadata": {},
          "execution_count": 6
        }
      ]
    },
    {
      "cell_type": "code",
      "metadata": {
        "colab": {
          "base_uri": "https://localhost:8080/"
        },
        "id": "fS2PIGW_KQXO",
        "outputId": "11c3a538-e0cb-4489-a557-6fb7c0340f3c"
      },
      "source": [
        "song_info.info()"
      ],
      "execution_count": 7,
      "outputs": [
        {
          "output_type": "stream",
          "name": "stdout",
          "text": [
            "<class 'pandas.core.frame.DataFrame'>\n",
            "RangeIndex: 18835 entries, 0 to 18834\n",
            "Data columns (total 4 columns):\n",
            " #   Column       Non-Null Count  Dtype \n",
            "---  ------       --------------  ----- \n",
            " 0   song_name    18835 non-null  object\n",
            " 1   artist_name  18835 non-null  object\n",
            " 2   album_names  18835 non-null  object\n",
            " 3   playlist     18835 non-null  object\n",
            "dtypes: object(4)\n",
            "memory usage: 588.7+ KB\n"
          ]
        }
      ]
    },
    {
      "cell_type": "markdown",
      "metadata": {
        "id": "jK872OUmT7Gn"
      },
      "source": [
        "Untuk penjelasan tentang variabel-variabel kolom tersebut, dapat dilihat pada poin-poin berikut :\n",
        "* `song_name` : Judul lagu yang tertampil\n",
        "* `artist_name` : Nama penyanyi yang menyanyikan lagu tersebut\n",
        "* `album_names` : Nama album dimana lagu tersebut termasuk sebagai koleksinya, album sendiri adalah koleksi lagu dari suatu penyanyi\n",
        "* `playlist` : Kumpulan lagu yang memiliki suatu kesamaan"
      ]
    },
    {
      "cell_type": "markdown",
      "metadata": {
        "id": "ilRjDdcAKnd0"
      },
      "source": [
        "## 3. Eksplorasi Data\n",
        "Kemudian dilakukan juga eksplorasi data dan visualisasi tentang kolomnya."
      ]
    },
    {
      "cell_type": "code",
      "metadata": {
        "id": "IIw1kfemKTn-",
        "colab": {
          "base_uri": "https://localhost:8080/"
        },
        "outputId": "2b166057-2d74-4a4e-a00c-bd03fab00494"
      },
      "source": [
        "# Melihat jumlah lagu yang ada pada dataset\n",
        "print(\"Jumlah lagu yang ada dalam dataset : \", len(song_info.song_name.unique()))"
      ],
      "execution_count": 8,
      "outputs": [
        {
          "output_type": "stream",
          "name": "stdout",
          "text": [
            "Jumlah lagu yang ada dalam dataset :  13070\n"
          ]
        }
      ]
    },
    {
      "cell_type": "code",
      "metadata": {
        "colab": {
          "base_uri": "https://localhost:8080/"
        },
        "id": "8wDDLLJ1UF0z",
        "outputId": "48ac00e5-eaa5-43eb-8b45-181b91b00b93"
      },
      "source": [
        "# Melihat jumlah artis yang ada pada dataset\n",
        "print(\"Jumlah Penyanyi dalam dataset : \", len(song_info.artist_name.unique()))"
      ],
      "execution_count": 9,
      "outputs": [
        {
          "output_type": "stream",
          "name": "stdout",
          "text": [
            "Jumlah Penyanyi dalam dataset :  7564\n"
          ]
        }
      ]
    },
    {
      "cell_type": "code",
      "metadata": {
        "colab": {
          "base_uri": "https://localhost:8080/"
        },
        "id": "gweBkgVuUZ-q",
        "outputId": "ae700200-fa7a-495b-c16d-ddca235c29bf"
      },
      "source": [
        "# Melihat jumlah album dalam dataset\n",
        "print(\"Jumlah Album dalam dataset : \", len(song_info.album_names.unique()))"
      ],
      "execution_count": 10,
      "outputs": [
        {
          "output_type": "stream",
          "name": "stdout",
          "text": [
            "Jumlah Album dalam dataset :  12014\n"
          ]
        }
      ]
    },
    {
      "cell_type": "code",
      "metadata": {
        "colab": {
          "base_uri": "https://localhost:8080/"
        },
        "id": "UQFDbLcnUn_G",
        "outputId": "9f26eee8-356a-48c3-b859-785d6723dcd7"
      },
      "source": [
        "# Melihat jumlah playlist dalam dataset\n",
        "print(\"Jumlah Playlist dalam dataset : \", len(song_info.playlist.unique()))"
      ],
      "execution_count": 11,
      "outputs": [
        {
          "output_type": "stream",
          "name": "stdout",
          "text": [
            "Jumlah Playlist dalam dataset :  300\n"
          ]
        }
      ]
    },
    {
      "cell_type": "code",
      "metadata": {
        "colab": {
          "base_uri": "https://localhost:8080/",
          "height": 575
        },
        "id": "Pj0YVv9o3CU0",
        "outputId": "7f63394e-1430-4d98-92ca-5c3fd6cfd5ad"
      },
      "source": [
        "# To 10 Penyayi dengan lagu terbanyak\n",
        "plt.figure(figsize=(12,8))\n",
        "sns.countplot(x='artist_name', data = song_info, order = song_info.artist_name.value_counts().sort_values(ascending=False).iloc[:10].index)\n",
        "plt.title(\"Top 10 Artist dengan Lagu Terbanyak\")\n",
        "plt.xticks(rotation = 45)\n",
        "plt.show()"
      ],
      "execution_count": 12,
      "outputs": [
        {
          "output_type": "display_data",
          "data": {
            "image/png": "[encoded data removed]",
            "text/plain": [
              "<Figure size 864x576 with 1 Axes>"
            ]
          },
          "metadata": {
            "needs_background": "light"
          }
        }
      ]
    },
    {
      "cell_type": "code",
      "metadata": {
        "colab": {
          "base_uri": "https://localhost:8080/",
          "height": 574
        },
        "id": "mfUmCVWxVmML",
        "outputId": "b0327183-d21e-4d4d-9513-2c9593c0f084"
      },
      "source": [
        "# Top 10 playlist dengan lagu terbanyak\n",
        "plt.figure(figsize=(12,8))\n",
        "sns.countplot(x='playlist', data=song_info, order = song_info.playlist.value_counts().sort_values(ascending=False).iloc[:10].index)\n",
        "plt.title(\"Top 10 Playlist dengan Lagu Terbanyak\")\n",
        "plt.xticks(rotation = 45)\n",
        "plt.show()"
      ],
      "execution_count": 13,
      "outputs": [
        {
          "output_type": "display_data",
          "data": {
            "image/png": "[encoded data removed]",
            "text/plain": [
              "<Figure size 864x576 with 1 Axes>"
            ]
          },
          "metadata": {
            "needs_background": "light"
          }
        }
      ]
    },
    {
      "cell_type": "code",
      "metadata": {
        "colab": {
          "base_uri": "https://localhost:8080/"
        },
        "id": "m2pfSCBg4qJL",
        "outputId": "899c30eb-9d29-432e-fada-2a514ed90deb"
      },
      "source": [
        "# Melihat adanya missing value\n",
        "song_info.isna().sum()"
      ],
      "execution_count": 14,
      "outputs": [
        {
          "output_type": "execute_result",
          "data": {
            "text/plain": [
              "song_name      0\n",
              "artist_name    0\n",
              "album_names    0\n",
              "playlist       0\n",
              "dtype: int64"
            ]
          },
          "metadata": {},
          "execution_count": 14
        }
      ]
    },
    {
      "cell_type": "markdown",
      "metadata": {
        "id": "Y77DS22t4lpe"
      },
      "source": [
        "## 4. Data Preparation\n",
        "Tahap berikutnya adalah _data preparation_, tahap dimana data akan diolah sehingga sudah siap untuk proses pemodelan."
      ]
    },
    {
      "cell_type": "code",
      "metadata": {
        "colab": {
          "base_uri": "https://localhost:8080/",
          "height": 414
        },
        "id": "5SYLkX7t8GiC",
        "outputId": "4931405c-a474-4eaa-a9ee-ce2746566844"
      },
      "source": [
        "# Membuang data duplikat duplikat\n",
        "song_info = song_info.drop_duplicates(['song_name', 'artist_name'])\n",
        "song_info"
      ],
      "execution_count": 31,
      "outputs": [
        {
          "output_type": "execute_result",
          "data": {
            "text/html": [
              "<div>\n",
              "<style scoped>\n",
              "    .dataframe tbody tr th:only-of-type {\n",
              "        vertical-align: middle;\n",
              "    }\n",
              "\n",
              "    .dataframe tbody tr th {\n",
              "        vertical-align: top;\n",
              "    }\n",
              "\n",
              "    .dataframe thead th {\n",
              "        text-align: right;\n",
              "    }\n",
              "</style>\n",
              "<table border=\"1\" class=\"dataframe\">\n",
              "  <thead>\n",
              "    <tr style=\"text-align: right;\">\n",
              "      <th></th>\n",
              "      <th>song_name</th>\n",
              "      <th>artist_name</th>\n",
              "      <th>album_names</th>\n",
              "      <th>playlist</th>\n",
              "    </tr>\n",
              "  </thead>\n",
              "  <tbody>\n",
              "    <tr>\n",
              "      <th>0</th>\n",
              "      <td>Boulevard of Broken Dreams</td>\n",
              "      <td>Green Day</td>\n",
              "      <td>Greatest Hits: God's Favorite Band</td>\n",
              "      <td>00s Rock Anthems</td>\n",
              "    </tr>\n",
              "    <tr>\n",
              "      <th>1</th>\n",
              "      <td>In The End</td>\n",
              "      <td>Linkin Park</td>\n",
              "      <td>Hybrid Theory</td>\n",
              "      <td>00s Rock Anthems</td>\n",
              "    </tr>\n",
              "    <tr>\n",
              "      <th>2</th>\n",
              "      <td>Seven Nation Army</td>\n",
              "      <td>The White Stripes</td>\n",
              "      <td>Elephant</td>\n",
              "      <td>00s Rock Anthems</td>\n",
              "    </tr>\n",
              "    <tr>\n",
              "      <th>3</th>\n",
              "      <td>By The Way</td>\n",
              "      <td>Red Hot Chili Peppers</td>\n",
              "      <td>By The Way (Deluxe Version)</td>\n",
              "      <td>00s Rock Anthems</td>\n",
              "    </tr>\n",
              "    <tr>\n",
              "      <th>4</th>\n",
              "      <td>How You Remind Me</td>\n",
              "      <td>Nickelback</td>\n",
              "      <td>Silver Side Up</td>\n",
              "      <td>00s Rock Anthems</td>\n",
              "    </tr>\n",
              "    <tr>\n",
              "      <th>...</th>\n",
              "      <td>...</td>\n",
              "      <td>...</td>\n",
              "      <td>...</td>\n",
              "      <td>...</td>\n",
              "    </tr>\n",
              "    <tr>\n",
              "      <th>18830</th>\n",
              "      <td>Let It Breathe</td>\n",
              "      <td>Water Liars</td>\n",
              "      <td>Water Liars</td>\n",
              "      <td>Your Favorite Coffeehouse</td>\n",
              "    </tr>\n",
              "    <tr>\n",
              "      <th>18831</th>\n",
              "      <td>Answers</td>\n",
              "      <td>Brooke Annibale</td>\n",
              "      <td>The Simple Fear</td>\n",
              "      <td>Your Favorite Coffeehouse</td>\n",
              "    </tr>\n",
              "    <tr>\n",
              "      <th>18832</th>\n",
              "      <td>Sudden Love (Acoustic)</td>\n",
              "      <td>The Woodlands</td>\n",
              "      <td>Parallels, Vol. II</td>\n",
              "      <td>Your Favorite Coffeehouse</td>\n",
              "    </tr>\n",
              "    <tr>\n",
              "      <th>18833</th>\n",
              "      <td>Gentle on My Mind</td>\n",
              "      <td>Robert Ellis</td>\n",
              "      <td>Dear John</td>\n",
              "      <td>Your Favorite Coffeehouse</td>\n",
              "    </tr>\n",
              "    <tr>\n",
              "      <th>18834</th>\n",
              "      <td>Up to Me</td>\n",
              "      <td>Sera Cahoone</td>\n",
              "      <td>Up to Me</td>\n",
              "      <td>Your Favorite Coffeehouse</td>\n",
              "    </tr>\n",
              "  </tbody>\n",
              "</table>\n",
              "<p>14006 rows × 4 columns</p>\n",
              "</div>"
            ],
            "text/plain": [
              "                        song_name  ...                   playlist\n",
              "0      Boulevard of Broken Dreams  ...           00s Rock Anthems\n",
              "1                      In The End  ...           00s Rock Anthems\n",
              "2               Seven Nation Army  ...           00s Rock Anthems\n",
              "3                      By The Way  ...           00s Rock Anthems\n",
              "4               How You Remind Me  ...           00s Rock Anthems\n",
              "...                           ...  ...                        ...\n",
              "18830              Let It Breathe  ...  Your Favorite Coffeehouse\n",
              "18831                     Answers  ...  Your Favorite Coffeehouse\n",
              "18832      Sudden Love (Acoustic)  ...  Your Favorite Coffeehouse\n",
              "18833           Gentle on My Mind  ...  Your Favorite Coffeehouse\n",
              "18834                    Up to Me  ...  Your Favorite Coffeehouse\n",
              "\n",
              "[14006 rows x 4 columns]"
            ]
          },
          "metadata": {},
          "execution_count": 31
        }
      ]
    },
    {
      "cell_type": "markdown",
      "metadata": {
        "id": "-M26j353UVQ1"
      },
      "source": [
        "Membuang data duplikasi yang memiliki kesamaan pada kolom `song_name` dan  `artist_name`. Tujuannya supaya tidak muncul suatu data sebanyak 2 kali pada proses rekomendasi nanti. Proses penghilangan data duplikasi ini adalah dengan perintah _drop_duplicates_ dari library pandas."
      ]
    },
    {
      "cell_type": "code",
      "metadata": {
        "colab": {
          "base_uri": "https://localhost:8080/",
          "height": 202
        },
        "id": "xB5pwYbr4olX",
        "outputId": "7c3ed97d-a887-49c0-8e5d-2a3a00497ca9"
      },
      "source": [
        "# Menggabungkan kolom artist_name, album_names, dan playlist\n",
        "new_song_info = song_info.copy()\n",
        "new_song_info['info'] = new_song_info[['artist_name','album_names','playlist']].agg(' '.join, axis=1) \n",
        "\n",
        "# Melakukan drop pada kolom artist_name, album_names, dan playlist\n",
        "new_song_info = new_song_info.drop(columns=['artist_name', 'album_names', 'playlist'], axis = 1)\n",
        "new_song_info.head()\n"
      ],
      "execution_count": 32,
      "outputs": [
        {
          "output_type": "execute_result",
          "data": {
            "text/html": [
              "<div>\n",
              "<style scoped>\n",
              "    .dataframe tbody tr th:only-of-type {\n",
              "        vertical-align: middle;\n",
              "    }\n",
              "\n",
              "    .dataframe tbody tr th {\n",
              "        vertical-align: top;\n",
              "    }\n",
              "\n",
              "    .dataframe thead th {\n",
              "        text-align: right;\n",
              "    }\n",
              "</style>\n",
              "<table border=\"1\" class=\"dataframe\">\n",
              "  <thead>\n",
              "    <tr style=\"text-align: right;\">\n",
              "      <th></th>\n",
              "      <th>song_name</th>\n",
              "      <th>info</th>\n",
              "    </tr>\n",
              "  </thead>\n",
              "  <tbody>\n",
              "    <tr>\n",
              "      <th>0</th>\n",
              "      <td>Boulevard of Broken Dreams</td>\n",
              "      <td>Green Day Greatest Hits: God's Favorite Band 0...</td>\n",
              "    </tr>\n",
              "    <tr>\n",
              "      <th>1</th>\n",
              "      <td>In The End</td>\n",
              "      <td>Linkin Park Hybrid Theory 00s Rock Anthems</td>\n",
              "    </tr>\n",
              "    <tr>\n",
              "      <th>2</th>\n",
              "      <td>Seven Nation Army</td>\n",
              "      <td>The White Stripes Elephant 00s Rock Anthems</td>\n",
              "    </tr>\n",
              "    <tr>\n",
              "      <th>3</th>\n",
              "      <td>By The Way</td>\n",
              "      <td>Red Hot Chili Peppers By The Way (Deluxe Versi...</td>\n",
              "    </tr>\n",
              "    <tr>\n",
              "      <th>4</th>\n",
              "      <td>How You Remind Me</td>\n",
              "      <td>Nickelback Silver Side Up 00s Rock Anthems</td>\n",
              "    </tr>\n",
              "  </tbody>\n",
              "</table>\n",
              "</div>"
            ],
            "text/plain": [
              "                    song_name                                               info\n",
              "0  Boulevard of Broken Dreams  Green Day Greatest Hits: God's Favorite Band 0...\n",
              "1                  In The End         Linkin Park Hybrid Theory 00s Rock Anthems\n",
              "2           Seven Nation Army        The White Stripes Elephant 00s Rock Anthems\n",
              "3                  By The Way  Red Hot Chili Peppers By The Way (Deluxe Versi...\n",
              "4           How You Remind Me         Nickelback Silver Side Up 00s Rock Anthems"
            ]
          },
          "metadata": {},
          "execution_count": 32
        }
      ]
    },
    {
      "cell_type": "markdown",
      "metadata": {
        "id": "xfHhhCURUZwx"
      },
      "source": [
        "Membuat fitur baru bernama `info` dengan cara menggabungkan kolom `artist_name`, `album_names`, dan `playlist`. Hal tersebut dilakukan untuk memudahkan proses TF-IDF, karena fitur `info` telah mencakup ketiga fitur kolom."
      ]
    },
    {
      "cell_type": "markdown",
      "metadata": {
        "id": "bLilUW3G33r8"
      },
      "source": [
        "## 5. Pemodelan dan Hasil\n",
        "Setelah data telah diolah, maka proses selanjutnya adalah pemodelan. Dalam pemodelan ini data akan dilakukan proses TF-IDF dan cosine similarity"
      ]
    },
    {
      "cell_type": "markdown",
      "metadata": {
        "id": "EO9UvuXYUtIi"
      },
      "source": [
        "### TF-IDF\n",
        "Secara sederhana TF merupakan frekuensi kemunculan kata dalam suatu dokumen. IDF merupakan sebuah perhitungan dari bagaimana kata didistribusikan secara luas pada koleksi dokumen yang bersangkutan. Pada projek ini TF-IDF digunakan pada sistem rekomendasi untuk menemukan representasi fitur penting dari setiap kategori masakan. Untuk melakukan proses TF-IDF ini digunakan fungsi _TfidfVectorizer_ dari sklearn."
      ]
    },
    {
      "cell_type": "code",
      "metadata": {
        "colab": {
          "base_uri": "https://localhost:8080/"
        },
        "id": "hqXSd7jkY_wg",
        "outputId": "216fd507-bfd5-414e-dcd9-a4c4e8964cc2"
      },
      "source": [
        "# Persiapan tfidfvectorizer\n",
        "tf = TfidfVectorizer()\n",
        "\n",
        "# Melakukan perhitungan idf pada kolom info\n",
        "tf.fit(new_song_info['info'])"
      ],
      "execution_count": 33,
      "outputs": [
        {
          "output_type": "execute_result",
          "data": {
            "text/plain": [
              "TfidfVectorizer(analyzer='word', binary=False, decode_error='strict',\n",
              "                dtype=<class 'numpy.float64'>, encoding='utf-8',\n",
              "                input='content', lowercase=True, max_df=1.0, max_features=None,\n",
              "                min_df=1, ngram_range=(1, 1), norm='l2', preprocessor=None,\n",
              "                smooth_idf=True, stop_words=None, strip_accents=None,\n",
              "                sublinear_tf=False, token_pattern='(?u)\\\\b\\\\w\\\\w+\\\\b',\n",
              "                tokenizer=None, use_idf=True, vocabulary=None)"
            ]
          },
          "metadata": {},
          "execution_count": 33
        }
      ]
    },
    {
      "cell_type": "code",
      "metadata": {
        "colab": {
          "base_uri": "https://localhost:8080/"
        },
        "id": "D828NCgR9nTb",
        "outputId": "773f8eb3-7c7d-436c-91d8-67aa7f12eebc"
      },
      "source": [
        "# Mapping array dari fitur index integer ke fitur nama\n",
        "tf.get_feature_names()"
      ],
      "execution_count": 34,
      "outputs": [
        {
          "output_type": "execute_result",
          "data": {
            "text/plain": [
              "['000',\n",
              " '001',\n",
              " '00s',\n",
              " '01',\n",
              " '03',\n",
              " '05',\n",
              " '07',\n",
              " '070',\n",
              " '079me',\n",
              " '10',\n",
              " '100',\n",
              " '1000',\n",
              " '1000hp',\n",
              " '1001',\n",
              " '100k',\n",
              " '100x',\n",
              " '101',\n",
              " '104',\n",
              " '105',\n",
              " '10cc',\n",
              " '10s',\n",
              " '10th',\n",
              " '11',\n",
              " '112',\n",
              " '112th',\n",
              " '11th',\n",
              " '12',\n",
              " '1234',\n",
              " '13',\n",
              " '130',\n",
              " '13alloonz',\n",
              " '13lack',\n",
              " '13th',\n",
              " '14',\n",
              " '140',\n",
              " '1435',\n",
              " '145',\n",
              " '1472',\n",
              " '15',\n",
              " '150',\n",
              " '151',\n",
              " '155',\n",
              " '15th',\n",
              " '16',\n",
              " '160',\n",
              " '165',\n",
              " '167',\n",
              " '17',\n",
              " '175',\n",
              " '18',\n",
              " '180',\n",
              " '182',\n",
              " '187um',\n",
              " '19',\n",
              " '1919',\n",
              " '1931',\n",
              " '1942',\n",
              " '1945',\n",
              " '1948',\n",
              " '1949',\n",
              " '1950',\n",
              " '1950s',\n",
              " '1951',\n",
              " '1952',\n",
              " '1953',\n",
              " '1954',\n",
              " '1955',\n",
              " '1956',\n",
              " '1957',\n",
              " '1959',\n",
              " '1960',\n",
              " '1961',\n",
              " '1962',\n",
              " '1963',\n",
              " '1964',\n",
              " '1965',\n",
              " '1966',\n",
              " '1967',\n",
              " '1968',\n",
              " '1969',\n",
              " '1970',\n",
              " '1971',\n",
              " '1972',\n",
              " '1973',\n",
              " '1974',\n",
              " '1975',\n",
              " '1976',\n",
              " '1977',\n",
              " '1979',\n",
              " '1980',\n",
              " '1982',\n",
              " '1983',\n",
              " '1984',\n",
              " '1986',\n",
              " '1987',\n",
              " '1989',\n",
              " '1990',\n",
              " '1991',\n",
              " '1992',\n",
              " '1993',\n",
              " '1994',\n",
              " '1995',\n",
              " '1996',\n",
              " '1997',\n",
              " '1998',\n",
              " '1999',\n",
              " '19xx',\n",
              " '1s',\n",
              " '1st',\n",
              " '1take',\n",
              " '1takejay',\n",
              " '20',\n",
              " '200',\n",
              " '2000',\n",
              " '20000',\n",
              " '2000s',\n",
              " '2001',\n",
              " '2002',\n",
              " '2003',\n",
              " '2004',\n",
              " '2005',\n",
              " '2006',\n",
              " '2007',\n",
              " '2008',\n",
              " '2009',\n",
              " '2010',\n",
              " '2011',\n",
              " '2012',\n",
              " '2013',\n",
              " '2014',\n",
              " '2015',\n",
              " '2016',\n",
              " '2017',\n",
              " '2018',\n",
              " '2099',\n",
              " '20th',\n",
              " '21',\n",
              " '2112',\n",
              " '21st',\n",
              " '22',\n",
              " '222',\n",
              " '223',\n",
              " '23',\n",
              " '24',\n",
              " '242',\n",
              " '24hrs',\n",
              " '24k',\n",
              " '25',\n",
              " '25th',\n",
              " '27',\n",
              " '28',\n",
              " '281',\n",
              " '29',\n",
              " '2am',\n",
              " '2en1',\n",
              " '2face',\n",
              " '2k17',\n",
              " '2nd',\n",
              " '2ne1',\n",
              " '2pac',\n",
              " '2sum',\n",
              " '2u4u',\n",
              " '30',\n",
              " '300',\n",
              " '30th',\n",
              " '31',\n",
              " '311',\n",
              " '32',\n",
              " '33',\n",
              " '330am',\n",
              " '333',\n",
              " '34',\n",
              " '35',\n",
              " '35th',\n",
              " '36',\n",
              " '360',\n",
              " '37th',\n",
              " '38',\n",
              " '3ak',\n",
              " '3am',\n",
              " '3lau',\n",
              " '3pm',\n",
              " '3rd',\n",
              " '3songs',\n",
              " '40',\n",
              " '400',\n",
              " '4000',\n",
              " '40k',\n",
              " '40th',\n",
              " '41',\n",
              " '420',\n",
              " '4275',\n",
              " '43',\n",
              " '435',\n",
              " '44',\n",
              " '45',\n",
              " '45th',\n",
              " '46분',\n",
              " '47',\n",
              " '48',\n",
              " '4am',\n",
              " '4b',\n",
              " '4ever',\n",
              " '4freedom',\n",
              " '4lienetic',\n",
              " '4loyalty',\n",
              " '4n',\n",
              " '4play',\n",
              " '4respect',\n",
              " '4th',\n",
              " '4whatimportant',\n",
              " '50',\n",
              " '500',\n",
              " '5000',\n",
              " '503',\n",
              " '50s',\n",
              " '50th',\n",
              " '5150',\n",
              " '52',\n",
              " '53',\n",
              " '56',\n",
              " '57',\n",
              " '58',\n",
              " '59',\n",
              " '5am',\n",
              " '5e',\n",
              " '5th',\n",
              " '60',\n",
              " '60s',\n",
              " '60th',\n",
              " '61',\n",
              " '62',\n",
              " '65',\n",
              " '653',\n",
              " '66',\n",
              " '67',\n",
              " '69',\n",
              " '6host',\n",
              " '6ix',\n",
              " '6ix9ine',\n",
              " '6lack',\n",
              " '6th',\n",
              " '70',\n",
              " '70s',\n",
              " '714ever',\n",
              " '73',\n",
              " '75',\n",
              " '75th',\n",
              " '77',\n",
              " '7ainbow',\n",
              " '7am',\n",
              " '7apes',\n",
              " '80',\n",
              " '808',\n",
              " '808s',\n",
              " '809',\n",
              " '80s',\n",
              " '81',\n",
              " '82',\n",
              " '83',\n",
              " '836',\n",
              " '84',\n",
              " '85',\n",
              " '86',\n",
              " '8701',\n",
              " '88',\n",
              " '88rising',\n",
              " '89',\n",
              " '8ball',\n",
              " '8th',\n",
              " '90',\n",
              " '90era',\n",
              " '90s',\n",
              " '91',\n",
              " '93',\n",
              " '94',\n",
              " '97',\n",
              " '98',\n",
              " '99',\n",
              " '999',\n",
              " '9am',\n",
              " '9er',\n",
              " '9ice',\n",
              " '9th',\n",
              " '_91ultra',\n",
              " '_tag',\n",
              " 'a1',\n",
              " 'a2',\n",
              " 'a_part',\n",
              " 'aa',\n",
              " 'aalto',\n",
              " 'aanysa',\n",
              " 'aaradhna',\n",
              " 'aaron',\n",
              " 'ab',\n",
              " 'abaga',\n",
              " 'abandoned',\n",
              " 'abayarde',\n",
              " 'abba',\n",
              " 'abbas',\n",
              " 'abbey',\n",
              " 'abby',\n",
              " 'abc',\n",
              " 'abcd',\n",
              " 'abdulhassan',\n",
              " 'abdulreza',\n",
              " 'abel',\n",
              " 'aberdeen',\n",
              " 'abhi',\n",
              " 'abierto',\n",
              " 'abilene',\n",
              " 'abir',\n",
              " 'abisko',\n",
              " 'abjo',\n",
              " 'abla',\n",
              " 'able',\n",
              " 'about',\n",
              " 'above',\n",
              " 'abraham',\n",
              " 'abrazame',\n",
              " 'abrázame',\n",
              " 'absent',\n",
              " 'absofacto',\n",
              " 'absolute',\n",
              " 'absolutetly',\n",
              " 'abu',\n",
              " 'abuc',\n",
              " 'abuela',\n",
              " 'aburridos',\n",
              " 'abysma',\n",
              " 'ac',\n",
              " 'aca',\n",
              " 'academic',\n",
              " 'academy',\n",
              " 'acappella',\n",
              " 'acapulco',\n",
              " 'access',\n",
              " 'accidents',\n",
              " 'accomplished',\n",
              " 'according',\n",
              " 'accra',\n",
              " 'accusations',\n",
              " 'ace',\n",
              " 'acenos',\n",
              " 'aces',\n",
              " 'achoo',\n",
              " 'achtung',\n",
              " 'acid',\n",
              " 'acker',\n",
              " 'aclarar',\n",
              " 'acordarás',\n",
              " 'acosta',\n",
              " 'acostumbre',\n",
              " 'acoustic',\n",
              " 'acres',\n",
              " 'acron',\n",
              " 'across',\n",
              " 'act',\n",
              " 'acting',\n",
              " 'action',\n",
              " 'activated',\n",
              " 'active',\n",
              " 'activities',\n",
              " 'actor',\n",
              " 'actually',\n",
              " 'acuerdate',\n",
              " 'acuerdo',\n",
              " 'acuff',\n",
              " 'ad',\n",
              " 'adair',\n",
              " 'adam',\n",
              " 'adams',\n",
              " 'adara',\n",
              " 'adderall',\n",
              " 'addicted',\n",
              " 'addiction',\n",
              " 'addictive',\n",
              " 'addicts',\n",
              " 'adel',\n",
              " 'adele',\n",
              " 'adeline',\n",
              " 'adelitas',\n",
              " 'adentro',\n",
              " 'adi',\n",
              " 'adia',\n",
              " 'adieu',\n",
              " 'adjusting',\n",
              " 'adkins',\n",
              " 'adler',\n",
              " 'adna',\n",
              " 'adolescent',\n",
              " 'adolescents',\n",
              " 'adomania',\n",
              " 'adorable',\n",
              " 'adore',\n",
              " 'adrenaline',\n",
              " 'adrian',\n",
              " 'adrianigual',\n",
              " 'adriel',\n",
              " 'adrift',\n",
              " 'advance',\n",
              " 'adventure',\n",
              " 'adventures',\n",
              " 'adverts',\n",
              " 'advice',\n",
              " 'advocate',\n",
              " 'adz',\n",
              " 'aeesh',\n",
              " 'aer',\n",
              " 'aerial',\n",
              " 'aerolineas',\n",
              " 'aerolínea',\n",
              " 'aeroplane',\n",
              " 'aerosmith',\n",
              " 'aeson',\n",
              " 'affair',\n",
              " 'afi',\n",
              " 'afk',\n",
              " 'afluen',\n",
              " 'afraid',\n",
              " 'africa',\n",
              " 'african',\n",
              " 'afro',\n",
              " 'afrodiaspora',\n",
              " 'afrodisiac',\n",
              " 'afrojack',\n",
              " 'afropop',\n",
              " 'afrosound',\n",
              " 'afrotaína',\n",
              " 'afshar',\n",
              " 'afshin',\n",
              " 'after',\n",
              " 'aftergold',\n",
              " 'afterlife',\n",
              " 'afternoons',\n",
              " 'afterparty',\n",
              " 'afterprty',\n",
              " 'aftersound',\n",
              " 'aftertheparty',\n",
              " 'aftr',\n",
              " 'again',\n",
              " 'against',\n",
              " 'age',\n",
              " 'agee',\n",
              " 'agen',\n",
              " 'agent',\n",
              " 'agents',\n",
              " 'ages',\n",
              " 'aggressive',\n",
              " 'aghili',\n",
              " 'aging',\n",
              " 'agnes',\n",
              " 'agnez',\n",
              " 'ago',\n",
              " 'agony',\n",
              " 'agradecimiento',\n",
              " 'agraz',\n",
              " 'agua',\n",
              " 'aguila',\n",
              " 'aguilera',\n",
              " 'agustín',\n",
              " 'ah',\n",
              " 'ahdiyeh',\n",
              " 'ahead',\n",
              " 'ahh',\n",
              " 'ahi',\n",
              " 'ahk',\n",
              " 'ahlam',\n",
              " 'ahmed',\n",
              " 'ahora',\n",
              " 'aid',\n",
              " 'aiken',\n",
              " 'aiko',\n",
              " 'ailbhe',\n",
              " 'ailes',\n",
              " 'aimee',\n",
              " 'aimless',\n",
              " 'ain',\n",
              " 'aiono',\n",
              " 'air',\n",
              " 'airbourne',\n",
              " 'aire',\n",
              " 'aires',\n",
              " 'airey',\n",
              " 'airforce',\n",
              " 'airliftz',\n",
              " 'airplane',\n",
              " 'airwaves',\n",
              " 'airways',\n",
              " 'aisha',\n",
              " 'aitana',\n",
              " 'aj',\n",
              " 'aja',\n",
              " 'ajani',\n",
              " 'ajebutter22',\n",
              " 'ajr',\n",
              " 'ajram',\n",
              " 'ak47boyz',\n",
              " 'aka',\n",
              " 'akacia',\n",
              " 'akademiks',\n",
              " 'akbar',\n",
              " 'akemi',\n",
              " 'akero',\n",
              " 'akon',\n",
              " 'akwaaba',\n",
              " 'akwid',\n",
              " 'al',\n",
              " 'ala',\n",
              " 'alabama',\n",
              " 'alabina',\n",
              " 'aladdin',\n",
              " 'alama',\n",
              " 'alamo',\n",
              " 'alan',\n",
              " 'alanis',\n",
              " 'alannah',\n",
              " 'alarm',\n",
              " 'alas',\n",
              " 'alaska',\n",
              " 'alaskan',\n",
              " 'alawal',\n",
              " 'albarn',\n",
              " 'albert',\n",
              " 'alberto',\n",
              " 'albi',\n",
              " 'albino',\n",
              " 'alborán',\n",
              " 'album',\n",
              " 'album1',\n",
              " 'albums',\n",
              " 'aldean',\n",
              " 'aldo',\n",
              " 'aldous',\n",
              " 'ale',\n",
              " 'alec',\n",
              " 'alejandra',\n",
              " 'alejandro',\n",
              " 'alejo',\n",
              " 'alela',\n",
              " 'alessia',\n",
              " 'alessio',\n",
              " 'alesso',\n",
              " 'alex',\n",
              " 'alexander',\n",
              " 'alexandra',\n",
              " 'alexandria',\n",
              " 'alexis',\n",
              " 'alfa',\n",
              " 'alffa',\n",
              " 'alfonso',\n",
              " 'alfredo',\n",
              " 'algebra',\n",
              " 'algo',\n",
              " 'algoth',\n",
              " 'algérino',\n",
              " 'ali',\n",
              " 'alice',\n",
              " 'alicia',\n",
              " 'alien',\n",
              " 'aliens',\n",
              " 'alike',\n",
              " 'alina',\n",
              " 'alison',\n",
              " 'alive',\n",
              " 'alivia',\n",
              " 'alkaline',\n",
              " 'all',\n",
              " 'alla',\n",
              " 'allah',\n",
              " 'allan',\n",
              " 'allblack',\n",
              " 'alle',\n",
              " 'allegations',\n",
              " 'allen',\n",
              " 'alles',\n",
              " 'alley',\n",
              " 'allez',\n",
              " 'allie',\n",
              " 'alligator',\n",
              " 'allj',\n",
              " 'allman',\n",
              " 'allnighter',\n",
              " 'allstar',\n",
              " 'allstars',\n",
              " 'ally',\n",
              " 'allysa',\n",
              " 'alma',\n",
              " 'almanac',\n",
              " 'almighty',\n",
              " 'almismotiempo',\n",
              " 'almost',\n",
              " 'aloe',\n",
              " 'aloha',\n",
              " 'alok',\n",
              " 'alondra',\n",
              " 'alone',\n",
              " 'along',\n",
              " 'alphamama',\n",
              " 'alphaville',\n",
              " 'alps',\n",
              " 'alquiler',\n",
              " 'already',\n",
              " 'alright',\n",
              " 'alt',\n",
              " 'alter',\n",
              " 'altered',\n",
              " 'alternative',\n",
              " 'alto',\n",
              " 'altogether',\n",
              " 'alturas',\n",
              " 'alunageorge',\n",
              " 'alvarez',\n",
              " 'alvaro',\n",
              " 'alven',\n",
              " 'alvvays',\n",
              " 'always',\n",
              " 'aly',\n",
              " 'aléjate',\n",
              " 'am',\n",
              " 'amadeus',\n",
              " 'amal',\n",
              " 'amalfi',\n",
              " 'aman',\n",
              " 'amanda',\n",
              " 'amanecer',\n",
              " 'amanfu',\n",
              " 'amante',\n",
              " 'amar',\n",
              " 'amara',\n",
              " 'amaranthe',\n",
              " 'amare',\n",
              " 'amargue',\n",
              " 'amarrar',\n",
              " 'amarte',\n",
              " 'amarth',\n",
              " 'amaru',\n",
              " 'amaryllis',\n",
              " 'amaury',\n",
              " 'amazin',\n",
              " 'amazing',\n",
              " 'amba',\n",
              " 'ambar',\n",
              " 'ambassadors',\n",
              " 'amber',\n",
              " 'ambiance',\n",
              " 'ambient',\n",
              " 'ambiental',\n",
              " 'ambition',\n",
              " 'ambivalence',\n",
              " 'ambro',\n",
              " 'ambrosius',\n",
              " 'ambush',\n",
              " 'amei',\n",
              " 'amel',\n",
              " 'amelia',\n",
              " 'amen',\n",
              " 'amenazzy',\n",
              " 'amended',\n",
              " 'amends',\n",
              " 'america',\n",
              " 'american',\n",
              " 'americana',\n",
              " 'americano',\n",
              " 'americans',\n",
              " 'amerikkka',\n",
              " 'amiga',\n",
              " 'amigo',\n",
              " 'amigos',\n",
              " 'amigurumi',\n",
              " 'amilli',\n",
              " 'amindi',\n",
              " 'aminé',\n",
              " 'amir',\n",
              " 'amitri',\n",
              " 'ammoniaque',\n",
              " 'ammor',\n",
              " 'ammunition',\n",
              " 'amon',\n",
              " 'among',\n",
              " 'amongst',\n",
              " 'amor',\n",
              " 'amore',\n",
              " 'amorzinho',\n",
              " 'amos',\n",
              " 'amour',\n",
              " 'ampm',\n",
              " 'amr',\n",
              " 'amsterdam',\n",
              " 'amy',\n",
              " 'américa',\n",
              " 'an',\n",
              " 'ana',\n",
              " 'anaheim',\n",
              " 'analogue',\n",
              " 'anansie',\n",
              " 'anatii',\n",
              " 'anchor',\n",
              " 'ancient',\n",
              " 'and',\n",
              " 'anda',\n",
              " 'andalucia',\n",
              " 'andamos',\n",
              " 'andere',\n",
              " 'anderson',\n",
              " 'andersson',\n",
              " 'andra',\n",
              " 'andrade',\n",
              " 'andrea',\n",
              " 'andreas',\n",
              " 'andrelli',\n",
              " 'andres',\n",
              " 'andrew',\n",
              " 'andrews',\n",
              " 'andrey',\n",
              " 'andria',\n",
              " 'andy',\n",
              " 'andyhas',\n",
              " 'aneesh',\n",
              " 'anfa',\n",
              " 'ang',\n",
              " 'angel',\n",
              " 'angela',\n",
              " 'angeles',\n",
              " 'angelica',\n",
              " 'angelique',\n",
              " 'angello',\n",
              " 'angelo',\n",
              " 'angels',\n",
              " 'anggelo',\n",
              " 'angie',\n",
              " 'angry',\n",
              " 'angus',\n",
              " 'anhelo',\n",
              " 'ani',\n",
              " 'aniceto',\n",
              " 'anifest',\n",
              " 'anik',\n",
              " 'anillo',\n",
              " 'animal',\n",
              " 'animalia',\n",
              " 'animalize',\n",
              " 'animals',\n",
              " 'animation',\n",
              " 'anita',\n",
              " 'anitta',\n",
              " 'aniversario',\n",
              " 'anjelique',\n",
              " 'anka',\n",
              " 'ann',\n",
              " 'anna',\n",
              " 'anne',\n",
              " 'annibale',\n",
              " 'annie',\n",
              " 'annies',\n",
              " 'annihilation',\n",
              " 'anniversary',\n",
              " 'années',\n",
              " 'ano',\n",
              " 'anomaly',\n",
              " 'anonymous',\n",
              " 'another',\n",
              " 'anoushirvan',\n",
              " 'anson',\n",
              " 'answer',\n",
              " 'answering',\n",
              " 'answerphone',\n",
              " 'answers',\n",
              " 'ant',\n",
              " 'antagonist',\n",
              " 'antebellum',\n",
              " 'antecedente',\n",
              " 'antenna',\n",
              " 'anthem',\n",
              " 'anthems',\n",
              " 'anthology',\n",
              " 'anthony',\n",
              " 'anti',\n",
              " 'anticult',\n",
              " 'antidiotico',\n",
              " 'antidote',\n",
              " 'antidotes',\n",
              " 'antifeka',\n",
              " 'antipositive',\n",
              " 'antologia',\n",
              " 'antología',\n",
              " 'antonio',\n",
              " 'antony',\n",
              " 'antônio',\n",
              " 'anuel',\n",
              " 'anwandter',\n",
              " 'anybody',\n",
              " 'anyhow',\n",
              " 'anymore',\n",
              " 'anything',\n",
              " 'anyway',\n",
              " 'anywhere',\n",
              " 'ao',\n",
              " 'aoife',\n",
              " 'aoki',\n",
              " 'aoyama',\n",
              " 'ap',\n",
              " 'aparentemente',\n",
              " 'apart',\n",
              " 'apashe',\n",
              " 'ape',\n",
              " 'apex',\n",
              " 'apink',\n",
              " 'aplin',\n",
              " 'apollo',\n",
              " 'apologies',\n",
              " 'apparat',\n",
              " 'apparition',\n",
              " 'appeal',\n",
              " 'appetite',\n",
              " 'apple',\n",
              " 'appleby',\n",
              " 'apples',\n",
              " 'appreciation',\n",
              " 'aprendí',\n",
              " 'april',\n",
              " 'aqua',\n",
              " 'aqualung',\n",
              " 'aquanauts',\n",
              " 'aquarium',\n",
              " 'aquemini',\n",
              " 'aqui',\n",
              " 'aquila',\n",
              " 'aquilo',\n",
              " 'ar',\n",
              " 'arab',\n",
              " 'arabeat',\n",
              " 'arabella',\n",
              " 'arabia',\n",
              " 'arabic',\n",
              " 'araby',\n",
              " 'aragón',\n",
              " 'arc',\n",
              " 'arca',\n",
              " 'arcade',\n",
              " 'arcades',\n",
              " 'arcadium',\n",
              " 'arcangel',\n",
              " 'arcaraz',\n",
              " 'archies',\n",
              " 'architects',\n",
              " 'architecture',\n",
              " 'archives',\n",
              " 'archivos',\n",
              " 'arctic',\n",
              " 'arcángel',\n",
              " 'ard',\n",
              " 'are',\n",
              " 'area',\n",
              " 'arecibo',\n",
              " 'aref',\n",
              " 'arena',\n",
              " 'ares',\n",
              " 'aretha',\n",
              " 'aretuza',\n",
              " 'argue',\n",
              " 'argybargy',\n",
              " 'ari',\n",
              " 'aria',\n",
              " 'ariana',\n",
              " 'arias',\n",
              " 'arie',\n",
              " 'ariel',\n",
              " 'aries',\n",
              " 'arin',\n",
              " 'aristotle',\n",
              " 'arithmetic',\n",
              " 'arizona',\n",
              " 'arjona',\n",
              " 'arkadi',\n",
              " 'arkells',\n",
              " 'arlie',\n",
              " 'armada',\n",
              " 'armado',\n",
              " 'armageddon',\n",
              " 'armando',\n",
              " 'armatrading',\n",
              " 'armen',\n",
              " 'armin',\n",
              " 'arms',\n",
              " 'armstrong',\n",
              " 'army',\n",
              " 'arnalds',\n",
              " 'arno',\n",
              " 'arnold',\n",
              " 'arocena',\n",
              " 'aroosi',\n",
              " 'around',\n",
              " 'arouse',\n",
              " 'arps',\n",
              " 'arquivos',\n",
              " 'arrangement',\n",
              " 'arrangements',\n",
              " 'arrested',\n",
              " 'arrival',\n",
              " 'arrogant',\n",
              " 'arrollador',\n",
              " 'arrolladora',\n",
              " 'arrow',\n",
              " 'arrows',\n",
              " 'arroyo',\n",
              " 'art',\n",
              " 'artan',\n",
              " 'artes',\n",
              " 'artful',\n",
              " 'arthur',\n",
              " 'artiifact',\n",
              " 'artillería',\n",
              " 'artinb',\n",
              " 'artist',\n",
              " 'artists',\n",
              " 'artmasta',\n",
              " 'artoush',\n",
              " 'artpop',\n",
              " 'artscience',\n",
              " 'arturo',\n",
              " 'arty',\n",
              " 'arvo',\n",
              " 'ary',\n",
              " 'as',\n",
              " 'asal',\n",
              " 'asbeluxt',\n",
              " 'asbury',\n",
              " 'asch',\n",
              " 'asco',\n",
              " 'ases',\n",
              " 'asesina',\n",
              " 'asg',\n",
              " 'ash',\n",
              " 'ashanti',\n",
              " 'ashby',\n",
              " 'ashe',\n",
              " 'ashes',\n",
              " 'ashlee',\n",
              " 'ashley',\n",
              " 'ashworth',\n",
              " 'asi',\n",
              " 'asia',\n",
              " 'asiahn',\n",
              " 'asian',\n",
              " 'asians',\n",
              " 'aside',\n",
              " 'ask',\n",
              " 'askepot',\n",
              " 'asking',\n",
              " 'aslani',\n",
              " 'asleep',\n",
              " 'aso',\n",
              " 'asol',\n",
              " 'asondeguerra',\n",
              " 'asonia',\n",
              " 'asparuhgus',\n",
              " 'ass',\n",
              " 'assad',\n",
              " 'assaf',\n",
              " 'assassin',\n",
              " 'assassins',\n",
              " 'assemblage',\n",
              " 'asshole',\n",
              " 'associates',\n",
              " 'association',\n",
              " 'assorted',\n",
              " 'assurance',\n",
              " 'astaire',\n",
              " 'astley',\n",
              " 'astn',\n",
              " 'aston',\n",
              " 'astoria',\n",
              " 'astral',\n",
              " 'astrid',\n",
              " 'astrix',\n",
              " 'astro',\n",
              " 'astroblk',\n",
              " 'astronaut',\n",
              " 'astroworld',\n",
              " 'astrud',\n",
              " 'astræa',\n",
              " 'astudillo',\n",
              " 'asylum',\n",
              " 'asymmetry',\n",
              " 'así',\n",
              " 'at',\n",
              " 'atado',\n",
              " 'ataris',\n",
              " 'atb',\n",
              " 'atención',\n",
              " 'aterciopelados',\n",
              " 'athlete',\n",
              " 'ation',\n",
              " 'atkins',\n",
              " 'atlanta',\n",
              " 'atlantic',\n",
              " 'atlas',\n",
              " 'atlass',\n",
              " 'atliens',\n",
              " ...]"
            ]
          },
          "metadata": {},
          "execution_count": 34
        }
      ]
    },
    {
      "cell_type": "code",
      "metadata": {
        "id": "LtNfWlyRaJhp",
        "colab": {
          "base_uri": "https://localhost:8080/"
        },
        "outputId": "68ebf730-4ef7-4fa4-df97-2605c720a6c3"
      },
      "source": [
        "# Melakukan fit lagu di translasikan ke bentuk matriks\n",
        "tfidf_matrix = tf.fit_transform(new_song_info['info'])\n",
        "\n",
        "# Melihat ukuran matriks\n",
        "tfidf_matrix.shape"
      ],
      "execution_count": 35,
      "outputs": [
        {
          "output_type": "execute_result",
          "data": {
            "text/plain": [
              "(14006, 14910)"
            ]
          },
          "metadata": {},
          "execution_count": 35
        }
      ]
    },
    {
      "cell_type": "code",
      "metadata": {
        "colab": {
          "base_uri": "https://localhost:8080/"
        },
        "id": "ZHMguG3sbGj9",
        "outputId": "c31ee073-8dd0-4670-fe40-c22ed5caf104"
      },
      "source": [
        "tfidf_matrix.todense()"
      ],
      "execution_count": 36,
      "outputs": [
        {
          "output_type": "execute_result",
          "data": {
            "text/plain": [
              "matrix([[0.        , 0.        , 0.29884413, ..., 0.        , 0.        ,\n",
              "         0.        ],\n",
              "        [0.        , 0.        , 0.28278453, ..., 0.        , 0.        ,\n",
              "         0.        ],\n",
              "        [0.        , 0.        , 0.324561  , ..., 0.        , 0.        ,\n",
              "         0.        ],\n",
              "        ...,\n",
              "        [0.        , 0.        , 0.        , ..., 0.        , 0.        ,\n",
              "         0.        ],\n",
              "        [0.        , 0.        , 0.        , ..., 0.        , 0.        ,\n",
              "         0.        ],\n",
              "        [0.        , 0.        , 0.        , ..., 0.        , 0.        ,\n",
              "         0.        ]])"
            ]
          },
          "metadata": {},
          "execution_count": 36
        }
      ]
    },
    {
      "cell_type": "markdown",
      "metadata": {
        "id": "rEg94yMuU2fq"
      },
      "source": [
        "### Cosine Similarity\n",
        "_Cosine similarity_ adalah metrik yang digunakan untuk mengukur tingkat kesamaan suatu dokumen terlepas dari ukurannya. Dan secara matematis, _cosine similarity_ mengukur kosinus sudut antara dua vektor yang diproyeksikan dalam ruang multidimensi. _Cosine similarity_ memiliki keuntungan apabila dua dokumen serupa terpisah oleh _euclidean distance_ karena ukuran dokumen, kemungkinan mereka masih berorientasi ada. Dalam proses ini _cosine similarity_ dipanggil dengan fungsi _cosine_similarity_ dari sklearn. Input fungsi _cosine_similarity_ adalah matrix hasil dari proses TF-IDF, yang kemudian menghasilkan output berupa array tingkat kesamaan."
      ]
    },
    {
      "cell_type": "code",
      "metadata": {
        "colab": {
          "base_uri": "https://localhost:8080/"
        },
        "id": "qazt6rqTcLUM",
        "outputId": "4ac6f6ef-534d-4b7b-beaa-b61af297ec4b"
      },
      "source": [
        "# Menghitung cosine similarity\n",
        "cos_sim = cosine_similarity(tfidf_matrix)\n",
        "cos_sim"
      ],
      "execution_count": 37,
      "outputs": [
        {
          "output_type": "execute_result",
          "data": {
            "text/plain": [
              "array([[1.        , 0.18658838, 0.21415355, ..., 0.11746349, 0.11831717,\n",
              "        0.11710081],\n",
              "       [0.18658838, 1.        , 0.20264514, ..., 0.        , 0.        ,\n",
              "        0.        ],\n",
              "       [0.21415355, 0.20264514, 1.        , ..., 0.01742547, 0.        ,\n",
              "        0.        ],\n",
              "       ...,\n",
              "       [0.11746349, 0.        , 0.01742547, ..., 1.        , 0.27943212,\n",
              "        0.27655941],\n",
              "       [0.11831717, 0.        , 0.        , ..., 0.27943212, 1.        ,\n",
              "        0.27856936],\n",
              "       [0.11710081, 0.        , 0.        , ..., 0.27655941, 0.27856936,\n",
              "        1.        ]])"
            ]
          },
          "metadata": {},
          "execution_count": 37
        }
      ]
    },
    {
      "cell_type": "code",
      "metadata": {
        "colab": {
          "base_uri": "https://localhost:8080/"
        },
        "id": "lkGZd-WlAUza",
        "outputId": "0c64ef49-4bbd-4c16-e9d2-7afeffa979f0"
      },
      "source": [
        "# Membuat dataframe dari variabel cos_sim dengan baris dan kolom berupa song_name\n",
        "cos_sim_df = pd.DataFrame(cos_sim, index=new_song_info['song_name'], columns=new_song_info['song_name'])\n",
        "print('Shape:', cos_sim_df.shape)"
      ],
      "execution_count": 38,
      "outputs": [
        {
          "output_type": "stream",
          "name": "stdout",
          "text": [
            "Shape: (14006, 14006)\n"
          ]
        }
      ]
    },
    {
      "cell_type": "markdown",
      "metadata": {
        "id": "ZiFP3UQmU8Xo"
      },
      "source": [
        "### Fungsi Rekomendasi\n",
        "ungsi tersebut digunakan untuk memberikan rekomendasi berdasarkan sebuah nama lagu. Pada fungsi tersebut akan dilakukan pencarian kolom  yang sama dengan nama lagu yang dimasukkan pada dataframe hasil _cosine similarity_. Setelah itu diurutkan berdasarkan nilai _cosine similarity_ tertinggi, kemudian dilakukan _drop_ nama lagu yang dijadikan acuan agar tidak muncul dalam daftar rekomendasi. Kemudian outputnya berupa 5 lagu yang memiliki cosine similarity tertinggi."
      ]
    },
    {
      "cell_type": "code",
      "metadata": {
        "id": "K8kvJX14eFaO"
      },
      "source": [
        "def song_recommendations(song_name, similarity_data=cos_sim_df, items=song_info, k=5): \n",
        "  print(f\"Jika kamu menyukai lagu {song_name}, mungkin kamu juga menyukai 5 lagu berikut :\")\n",
        "  # Mengambil data dengan menggunakan argpartition untuk melakukan partisi secara tidak langsung sepanjang sumbu yang diberikan    \n",
        "  index = similarity_data.loc[:,song_name].to_numpy().argpartition(range(-1, -k, -1))\n",
        "    \n",
        "  # Mengambil data dengan similarity terbaik\n",
        "  closest = similarity_data.columns[index[-1:-(k+2):-1]]\n",
        "    \n",
        "  # Drop song_name\n",
        "  closest = closest.drop(song_name, errors='ignore')\n",
        " \n",
        "  return pd.DataFrame(closest).merge(items).head(k)"
      ],
      "execution_count": 49,
      "outputs": []
    },
    {
      "cell_type": "code",
      "metadata": {
        "colab": {
          "base_uri": "https://localhost:8080/",
          "height": 78
        },
        "id": "FbM3de8N4wNu",
        "outputId": "190abf9f-2bc8-478c-a44c-b52a1b8532af"
      },
      "source": [
        "# Melihat informasi tentang lagu yang akan dijadikan acua\n",
        "song_info[song_info.song_name.eq('Rap God')]"
      ],
      "execution_count": 50,
      "outputs": [
        {
          "output_type": "execute_result",
          "data": {
            "text/html": [
              "<div>\n",
              "<style scoped>\n",
              "    .dataframe tbody tr th:only-of-type {\n",
              "        vertical-align: middle;\n",
              "    }\n",
              "\n",
              "    .dataframe tbody tr th {\n",
              "        vertical-align: top;\n",
              "    }\n",
              "\n",
              "    .dataframe thead th {\n",
              "        text-align: right;\n",
              "    }\n",
              "</style>\n",
              "<table border=\"1\" class=\"dataframe\">\n",
              "  <thead>\n",
              "    <tr style=\"text-align: right;\">\n",
              "      <th></th>\n",
              "      <th>song_name</th>\n",
              "      <th>artist_name</th>\n",
              "      <th>album_names</th>\n",
              "      <th>playlist</th>\n",
              "    </tr>\n",
              "  </thead>\n",
              "  <tbody>\n",
              "    <tr>\n",
              "      <th>3710</th>\n",
              "      <td>Rap God</td>\n",
              "      <td>Eminem</td>\n",
              "      <td>The Marshall Mathers LP2 (Deluxe)</td>\n",
              "      <td>Big Gains Workout</td>\n",
              "    </tr>\n",
              "  </tbody>\n",
              "</table>\n",
              "</div>"
            ],
            "text/plain": [
              "     song_name  ...           playlist\n",
              "3710   Rap God  ...  Big Gains Workout\n",
              "\n",
              "[1 rows x 4 columns]"
            ]
          },
          "metadata": {},
          "execution_count": 50
        }
      ]
    },
    {
      "cell_type": "code",
      "metadata": {
        "colab": {
          "base_uri": "https://localhost:8080/",
          "height": 220
        },
        "id": "SKyu5CmfeGml",
        "outputId": "d5ef54fc-af71-417f-cedb-ba0f10371d75"
      },
      "source": [
        "# Mendapatkan rekomendasi musik\n",
        "song_recommendations(song_name=\"Rap God\")"
      ],
      "execution_count": 51,
      "outputs": [
        {
          "output_type": "stream",
          "name": "stdout",
          "text": [
            "Jika kamu menyukai lagu Rap God, mungkin kamu juga menyukai 5 lagu berikut :\n"
          ]
        },
        {
          "output_type": "execute_result",
          "data": {
            "text/html": [
              "<div>\n",
              "<style scoped>\n",
              "    .dataframe tbody tr th:only-of-type {\n",
              "        vertical-align: middle;\n",
              "    }\n",
              "\n",
              "    .dataframe tbody tr th {\n",
              "        vertical-align: top;\n",
              "    }\n",
              "\n",
              "    .dataframe thead th {\n",
              "        text-align: right;\n",
              "    }\n",
              "</style>\n",
              "<table border=\"1\" class=\"dataframe\">\n",
              "  <thead>\n",
              "    <tr style=\"text-align: right;\">\n",
              "      <th></th>\n",
              "      <th>song_name</th>\n",
              "      <th>artist_name</th>\n",
              "      <th>album_names</th>\n",
              "      <th>playlist</th>\n",
              "    </tr>\n",
              "  </thead>\n",
              "  <tbody>\n",
              "    <tr>\n",
              "      <th>0</th>\n",
              "      <td>Love Game</td>\n",
              "      <td>Eminem</td>\n",
              "      <td>The Marshall Mathers LP2 (Deluxe)</td>\n",
              "      <td>Clinically Cold</td>\n",
              "    </tr>\n",
              "    <tr>\n",
              "      <th>1</th>\n",
              "      <td>Rhyme Or Reason</td>\n",
              "      <td>Eminem</td>\n",
              "      <td>The Marshall Mathers LP2 (Deluxe)</td>\n",
              "      <td>Ill Lyricist</td>\n",
              "    </tr>\n",
              "    <tr>\n",
              "      <th>2</th>\n",
              "      <td>The Way I Am</td>\n",
              "      <td>Charlie Puth</td>\n",
              "      <td>Voicenotes</td>\n",
              "      <td>A Perfect Day</td>\n",
              "    </tr>\n",
              "    <tr>\n",
              "      <th>3</th>\n",
              "      <td>The Way I Am</td>\n",
              "      <td>Eminem</td>\n",
              "      <td>The Marshall Mathers LP</td>\n",
              "      <td>Gold School</td>\n",
              "    </tr>\n",
              "    <tr>\n",
              "      <th>4</th>\n",
              "      <td>Cinderella Man</td>\n",
              "      <td>Eminem</td>\n",
              "      <td>Recovery</td>\n",
              "      <td>Big Gains Workout</td>\n",
              "    </tr>\n",
              "  </tbody>\n",
              "</table>\n",
              "</div>"
            ],
            "text/plain": [
              "         song_name  ...           playlist\n",
              "0        Love Game  ...    Clinically Cold\n",
              "1  Rhyme Or Reason  ...       Ill Lyricist\n",
              "2     The Way I Am  ...      A Perfect Day\n",
              "3     The Way I Am  ...        Gold School\n",
              "4   Cinderella Man  ...  Big Gains Workout\n",
              "\n",
              "[5 rows x 4 columns]"
            ]
          },
          "metadata": {},
          "execution_count": 51
        }
      ]
    },
    {
      "cell_type": "markdown",
      "metadata": {
        "id": "9RLdqAcX5G-4"
      },
      "source": [
        "## 6. Evaluasi"
      ]
    },
    {
      "cell_type": "markdown",
      "metadata": {
        "id": "HBLIFSvR7KXc"
      },
      "source": [
        "Metriks yang akan digunakan untuk evaluasi pada sistem rekomendasi ini adalah presisi. Presisi merupakan banyaknya item rekomendasi yang relevan dibagi dengan banyaknya item yang direkomendasikan. Rumus dari metriks presisi adalah sebagai berikut\n",
        "![presisi](https://user-images.githubusercontent.com/61934759/138005224-8c8be6fd-58d8-4bc6-978f-d7ee5ce9c3e8.JPG)\n"
      ]
    },
    {
      "cell_type": "code",
      "metadata": {
        "colab": {
          "base_uri": "https://localhost:8080/"
        },
        "id": "T1byhMkB3mJ_",
        "outputId": "f973c7d5-7748-4e62-d6b4-9b70d6685924"
      },
      "source": [
        "# Presisi sistem rekomendasi\n",
        "relevan = 4 # Banyaknya item rekomendasi yang relevan\n",
        "rekomen = 5 # Banyaknya item yang direkomendasikan\n",
        "presisi = relevan / rekomen\n",
        "print(f\"Jadi Presisi rekomendasi yang diberikan untuk lagu 'Rap God' adalah {presisi*100}%\")"
      ],
      "execution_count": 54,
      "outputs": [
        {
          "output_type": "stream",
          "name": "stdout",
          "text": [
            "Jadi Presisi rekomendasi yang diberikan untuk lagu 'Rap God' adalah 80.0%\n"
          ]
        }
      ]
    },
    {
      "cell_type": "markdown",
      "metadata": {
        "id": "6SPQhEuW6YGp"
      },
      "source": [
        "## Referensi"
      ]
    },
    {
      "cell_type": "markdown",
      "metadata": {
        "id": "jjREAJk46dIh"
      },
      "source": [
        "* https://towardsdatascience.com/recommendation-systems-models-and-evaluation-84944a84fb8e\n",
        "* https://www.kaggle.com/benroshan/content-collaborative-anime-recommendation#Recommendation-building-phase---Tsukuru-(%E4%BD%9C%E3%82%8B)"
      ]
    }
  ]
}